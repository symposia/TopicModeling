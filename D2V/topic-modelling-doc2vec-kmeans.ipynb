{
 "cells": [
  {
   "cell_type": "code",
   "execution_count": 4,
   "metadata": {
    "_uuid": "145a09361796536689b864385dd08e9e79389d31"
   },
   "outputs": [],
   "source": [
    "import pandas as pd\n",
    "import numpy as np"
   ]
  },
  {
   "cell_type": "code",
   "execution_count": 5,
   "metadata": {
    "_uuid": "702ea99b53ef2118bb1a3d1748def25f2e004114"
   },
   "outputs": [],
   "source": [
    "df = pd.read_csv(\"../input/all-news/articles3.csv\")"
   ]
  },
  {
   "cell_type": "code",
   "execution_count": 7,
   "metadata": {
    "_uuid": "b4693ba1a28b7ec804b43b616e4b402f1622b3b8"
   },
   "outputs": [],
   "source": [
    "import string\n",
    "import re\n",
    "\n",
    "# some basic data cleaning\n",
    "translator=str.maketrans('','',string.punctuation)\n",
    "df.content = df.content.apply(lambda x : str(x).lower())\n",
    "df.content = df.content.apply(lambda x : x.translate(translator))\n",
    "df.content = df.content.apply(lambda x : re.sub( '\\s+', ' ', x ).strip())"
   ]
  },
  {
   "cell_type": "markdown",
   "metadata": {
    "_uuid": "59b8fa3d843d26d0b622a0b3f3409658986bc412"
   },
   "source": [
    "# D2V Word Embeddings"
   ]
  },
  {
   "cell_type": "code",
   "execution_count": null,
   "metadata": {
    "_uuid": "a8ca2367a8dbcffd4fc45c323566a26af2342d20"
   },
   "outputs": [
    {
     "name": "stderr",
     "output_type": "stream",
     "text": [
      "C:\\ProgramData\\Anaconda3\\lib\\site-packages\\gensim\\utils.py:1212: UserWarning: detected Windows; aliasing chunkize to chunkize_serial\n",
      "  warnings.warn(\"detected Windows; aliasing chunkize to chunkize_serial\")\n",
      "C:\\ProgramData\\Anaconda3\\lib\\site-packages\\ipykernel_launcher.py:4: DeprecationWarning: Call to deprecated `LabeledSentence` (Class will be removed in 4.0.0, use TaggedDocument instead).\n",
      "  after removing the cwd from sys.path.\n"
     ]
    },
    {
     "name": "stdout",
     "output_type": "stream",
     "text": [
      "Training for epoch 0\n",
      "Training for epoch 1\n"
     ]
    }
   ],
   "source": [
    "from gensim import models\n",
    "sentences = df.content.values.tolist()\n",
    "\n",
    "doc2vecSentence = [models.doc2vec.LabeledSentence(words=sentences[x], tags=[\"DOC_\"+str(x)]) for x in range(0,len(sentences)) ]\n",
    "model = models.Doc2Vec(dbow_words =1,\n",
    "                        min_count = 50, \n",
    "                        epochs = 40)\n",
    "model.build_vocab(doc2vecSentence)\n",
    "\n",
    "for epoch in range(40):\n",
    "    print(\"Training for epoch\", epoch)\n",
    "    model.train(doc2vecSentence, total_examples=len(doc2vecSentence), epochs=40)\n",
    "    model.alpha -= 0.002  # decrease the learning rate`\n",
    "    model.min_alpha = model.alpha  # fix the learning rate, no decay"
   ]
  },
  {
   "cell_type": "code",
   "execution_count": null,
   "metadata": {
    "_uuid": "b55158b25e98a91842855cbfe409ecc476d06d70"
   },
   "outputs": [],
   "source": [
    "model.save(\"model_doc2vec_40epochs\")"
   ]
  },
  {
   "cell_type": "markdown",
   "metadata": {
    "_uuid": "3b413edb76a86b2c1952b9aca7e9c43f36e02ff8"
   },
   "source": [
    "Create vectors"
   ]
  },
  {
   "cell_type": "code",
   "execution_count": 12,
   "metadata": {
    "_uuid": "11fbfe50b371c6312166528b5e0e20b5ebb31f70",
    "collapsed": true
   },
   "outputs": [],
   "source": [
    "# get vector data\n",
    "# X = model[model.wv.vocab]\n",
    "X = list(model.docvecs.doctag_syn0)"
   ]
  },
  {
   "cell_type": "markdown",
   "metadata": {
    "_uuid": "a6c9441da8a01ab970c99717f7c845eef3c192d7"
   },
   "source": [
    "# Approach 1 : embeddings  + kmeans\n",
    "\n",
    "Here we will :\n",
    "1. Create document embeddings\n",
    "2. Cluster using KMeans "
   ]
  },
  {
   "cell_type": "code",
   "execution_count": 13,
   "metadata": {
    "_uuid": "95138f2ed05cb2588787a506e8c335c642a88082",
    "collapsed": true
   },
   "outputs": [],
   "source": [
    "from sklearn.cluster import KMeans\n",
    "from sklearn import metrics\n",
    "kmeans = KMeans(n_clusters=10)\n",
    "kmeans.fit(X)\n",
    " \n",
    "labels = kmeans.labels_\n",
    "centroids = kmeans.cluster_centers_\n",
    " \n",
    "print (\"Cluster id labels for inputted data\")\n",
    "print (labels)\n",
    "print (\"Centroids data\")\n",
    "print (centroids)\n",
    " \n",
    "print (\"Score (Opposite of the value of X on the K-means objective which is Sum of distances of samples to their closest cluster center):\")\n",
    "print (kmeans.score(X))\n",
    " \n",
    "silhouette_score = metrics.silhouette_score(X, labels, metric='euclidean')\n",
    " \n",
    "print (\"Silhouette_score: \")\n",
    "print (silhouette_score)"
   ]
  },
  {
   "cell_type": "code",
   "execution_count": 15,
   "metadata": {
    "_uuid": "abd59f6ddf62be3e44fe319a3169cfc6c786e39c",
    "collapsed": true
   },
   "outputs": [],
   "source": [
    "## Assign the labels\n",
    "df[\"clust\"] = labels"
   ]
  },
  {
   "cell_type": "code",
   "execution_count": 22,
   "metadata": {
    "_uuid": "c451a84770abfad57f204941391c493f2aec8546",
    "collapsed": true
   },
   "outputs": [],
   "source": [
    "# Check count of news articles in each cluster\n",
    "df.groupby(\"clust\" )[\"content\"].count().plot(kind = \"pie\", autopct='%.2f', figsize = (10, 10))"
   ]
  },
  {
   "cell_type": "code",
   "execution_count": null,
   "metadata": {
    "_uuid": "a9b0be14359750e74cb7dde5fde9201caf531353",
    "collapsed": true
   },
   "outputs": [],
   "source": []
  }
 ],
 "metadata": {
  "kernelspec": {
   "display_name": "Python 3",
   "language": "python",
   "name": "python3"
  },
  "language_info": {
   "codemirror_mode": {
    "name": "ipython",
    "version": 3
   },
   "file_extension": ".py",
   "mimetype": "text/x-python",
   "name": "python",
   "nbconvert_exporter": "python",
   "pygments_lexer": "ipython3",
   "version": "3.6.5"
  },
  "varInspector": {
   "cols": {
    "lenName": 16,
    "lenType": 16,
    "lenVar": 40
   },
   "kernels_config": {
    "python": {
     "delete_cmd_postfix": "",
     "delete_cmd_prefix": "del ",
     "library": "var_list.py",
     "varRefreshCmd": "print(var_dic_list())"
    },
    "r": {
     "delete_cmd_postfix": ") ",
     "delete_cmd_prefix": "rm(",
     "library": "var_list.r",
     "varRefreshCmd": "cat(var_dic_list()) "
    }
   },
   "types_to_exclude": [
    "module",
    "function",
    "builtin_function_or_method",
    "instance",
    "_Feature"
   ],
   "window_display": false
  }
 },
 "nbformat": 4,
 "nbformat_minor": 1
}

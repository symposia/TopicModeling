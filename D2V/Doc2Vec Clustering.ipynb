{
 "cells": [
  {
   "cell_type": "code",
   "execution_count": 93,
   "metadata": {},
   "outputs": [],
   "source": [
    "import json\n",
    "import nltk\n",
    "import gensim\n",
    "import pandas as pd\n",
    "import re\n",
    "import matplotlib.pyplot as plt\n",
    "\n",
    "from gensim.models import Doc2Vec\n",
    "from nltk.tokenize import RegexpTokenizer\n",
    "from nltk.corpus import stopwords\n",
    "from nltk.stem.porter import PorterStemmer\n",
    "\n",
    "from sklearn.cluster import KMeans\n",
    "from sklearn.decomposition import PCA"
   ]
  },
  {
   "cell_type": "code",
   "execution_count": 94,
   "metadata": {},
   "outputs": [
    {
     "data": {
      "text/html": [
       "<div>\n",
       "<style scoped>\n",
       "    .dataframe tbody tr th:only-of-type {\n",
       "        vertical-align: middle;\n",
       "    }\n",
       "\n",
       "    .dataframe tbody tr th {\n",
       "        vertical-align: top;\n",
       "    }\n",
       "\n",
       "    .dataframe thead th {\n",
       "        text-align: right;\n",
       "    }\n",
       "</style>\n",
       "<table border=\"1\" class=\"dataframe\">\n",
       "  <thead>\n",
       "    <tr style=\"text-align: right;\">\n",
       "      <th></th>\n",
       "      <th>Article</th>\n",
       "      <th>Date</th>\n",
       "      <th>Heading</th>\n",
       "      <th>NewsType</th>\n",
       "    </tr>\n",
       "  </thead>\n",
       "  <tbody>\n",
       "    <tr>\n",
       "      <th>0</th>\n",
       "      <td>strong&gt;SINGAPORE: Oil prices edged up on Wedne...</td>\n",
       "      <td>11/23/2016</td>\n",
       "      <td>Oil prices edge up on anticipation of OPEC led...</td>\n",
       "      <td>business</td>\n",
       "    </tr>\n",
       "    <tr>\n",
       "      <th>1</th>\n",
       "      <td>strong&gt;Bridgetown:Darren Bravo´s third hundred...</td>\n",
       "      <td>6/25/2016</td>\n",
       "      <td>Ton up Bravo Pollard rescue Windi</td>\n",
       "      <td>sports</td>\n",
       "    </tr>\n",
       "    <tr>\n",
       "      <th>2</th>\n",
       "      <td>NORTH SOUND, Antigua: West Indies have replace...</td>\n",
       "      <td>7/12/2016</td>\n",
       "      <td>Ramdin dropped from Windies squad for India seri</td>\n",
       "      <td>sports</td>\n",
       "    </tr>\n",
       "    <tr>\n",
       "      <th>3</th>\n",
       "      <td>strong&gt;ISLAMABAD: Minister for Finance Ishaq D...</td>\n",
       "      <td>11/15/2016</td>\n",
       "      <td>No proposal to demonetize Rs 5000 currency not...</td>\n",
       "      <td>business</td>\n",
       "    </tr>\n",
       "    <tr>\n",
       "      <th>4</th>\n",
       "      <td>strong&gt;KARACHI: West Indies opner Chris Gayle ...</td>\n",
       "      <td>5/5/2016</td>\n",
       "      <td>Chris Gayle and Ahmed Shehzad friendly banter ...</td>\n",
       "      <td>sports</td>\n",
       "    </tr>\n",
       "  </tbody>\n",
       "</table>\n",
       "</div>"
      ],
      "text/plain": [
       "                                             Article        Date  \\\n",
       "0  strong>SINGAPORE: Oil prices edged up on Wedne...  11/23/2016   \n",
       "1  strong>Bridgetown:Darren Bravo´s third hundred...   6/25/2016   \n",
       "2  NORTH SOUND, Antigua: West Indies have replace...   7/12/2016   \n",
       "3  strong>ISLAMABAD: Minister for Finance Ishaq D...  11/15/2016   \n",
       "4  strong>KARACHI: West Indies opner Chris Gayle ...    5/5/2016   \n",
       "\n",
       "                                             Heading  NewsType  \n",
       "0  Oil prices edge up on anticipation of OPEC led...  business  \n",
       "1                  Ton up Bravo Pollard rescue Windi    sports  \n",
       "2   Ramdin dropped from Windies squad for India seri    sports  \n",
       "3  No proposal to demonetize Rs 5000 currency not...  business  \n",
       "4  Chris Gayle and Ahmed Shehzad friendly banter ...    sports  "
      ]
     },
     "execution_count": 94,
     "metadata": {},
     "output_type": "execute_result"
    }
   ],
   "source": [
    "articles = pd.read_csv('Articles.csv', encoding = \"ISO-8859-1\")\n",
    "articles = articles.sample(frac=1).reset_index(drop=True) # Shuffling Rows\n",
    "articles.head(5)"
   ]
  },
  {
   "cell_type": "code",
   "execution_count": 103,
   "metadata": {},
   "outputs": [],
   "source": [
    "#Data Pre-processing\n",
    "def cleaning(s):\n",
    "    s = str(s)\n",
    "    s = s.lower()\n",
    "    s = re.sub('\\s\\W',' ',s)\n",
    "    s = re.sub('\\W,\\s',' ',s)\n",
    "    s = re.sub(r'[^\\w]', ' ', s)\n",
    "    s = re.sub(\"\\d+\", \"\", s)\n",
    "    s = re.sub('\\s+',' ',s)\n",
    "    s = re.sub('[!@#$_]', '', s)\n",
    "    s = s.replace(\"co\",\"\")\n",
    "    s = s.replace(\"https\",\"\")\n",
    "    s = s.replace(\",\",\"\")\n",
    "    s = s.replace(\"[\\w*\",\" \")\n",
    "    return s\n",
    "\n",
    "##Need to fix/improve this stuff\n",
    "def preprocessing(text):  \n",
    "    text = text.split()\n",
    "    # remove numbers\n",
    "    number_tokens = [re.sub(r'[\\d]', ' ', i) for i in text]\n",
    "     # stem tokens\n",
    "    stemmed_tokens = [p_stemmer.stem(i) for i in number_tokens]\n",
    "    # remove empty\n",
    "    length_tokens = [i for i in stemmed_tokens if len(i) > 1]\n",
    "    return length_tokens"
   ]
  },
  {
   "cell_type": "code",
   "execution_count": 106,
   "metadata": {},
   "outputs": [
    {
     "data": {
      "text/plain": [
       "'strong>SINGAPORE: Oil prices edged up on Wednesday in anticipation of an OPEC-led crude production cut that is planned to be finalised by the end of the month, through trading was thin ahead of the U.S. Thanksgiving holiday on Thursday.</strongU.S. West Texas Intermediate (WTI) crude oil futures were trading at $46.13 at 0128 GMT, up 10 cents from their last settlement.International Brent crude oil futures were at $49.22 a barrel, up 10 cents. Reuters commodities analyst Wang Tao said that Brent could rise to $49.85 per barrel, a level marked by several technical resistance factors.Despite Wednesday\\'s slight increases, analysts said that the market was currently unwilling to push crude prices to $50 a barrel or higher.\"The market seems unwilling to push oil towards $50 a barrel ahead of the Thanksgiving holiday tomorrow,\" said Jeffrey Halley, senior market analyst at OANDA brokerage in Singapore. \"Their reticence is understandable given that longs (long positions) put on above that level have not ended well in recent times.\"\"Tonight\\'s (U.S.) EIA Crude Inventory numbers should provide a welcome, albeit temporary sideshow to the OPEC main event. Otherwise, we expect Asia to continue the sideways trading ranges,\" Halley said.The Energy Information Administration (EIA) is due to publish official U.S. crude oil and refined product inventory data later on Wednesday.Wednesday\\'s lethargy came after oil prices rallied earlier this week. Traders anticipated the Organization of the Petroleum Exporting Countries (OPEC) would successfully implement a planned, coordinated production cut - to be discussed at a Nov. 30 meeting - in order to prop up prices.However, by late Tuesday analysts had become wary of the prospects for such a deal, as it remained unclear whether major OPEC-producers Iraq and Iran were willing to participate in a meaningful way.\"Cracks in the OPEC production cut agreement could see oil prices weaker in trading today,\" ANZ bank said in a note on Wednesday.\"A preliminary meeting ahead of next week\\'s OPEC gathering failed to resolve the issues around Iran and Iraq\\'s involvement in the production cut agreement,\" it said. \"Despite this hiccup, we still expect the group to reach an agreement next week.\"'"
      ]
     },
     "execution_count": 106,
     "metadata": {},
     "output_type": "execute_result"
    }
   ],
   "source": [
    "c = cleaning(articles['Article'][0])\n",
    "p = preprocessing(c)\n",
    "articles['Article'][0]"
   ]
  },
  {
   "cell_type": "code",
   "execution_count": 107,
   "metadata": {},
   "outputs": [],
   "source": [
    "articles[\"Article\"] = articles[\"Article\"].str.replace(\"strong>\",\"\")\n",
    "LabeledSentence1 = gensim.models.doc2vec.TaggedDocument\n",
    "tokenizer = RegexpTokenizer(r'\\w+')\n",
    "stop_words = set(stopwords.words('english'))\n",
    "p_stemmer = PorterStemmer()\n",
    "all_content = []\n",
    "k = 0\n",
    "j = 0\n",
    "for s in articles['Article']:\n",
    "    #Data cleaning\n",
    "    clean_content = cleaning(s)\n",
    "    \n",
    "    #Pre-processing\n",
    "    processed_email = preprocessing(clean_content)\n",
    "    \n",
    "    # add tokens to list\n",
    "    if processed_email:\n",
    "        all_content.append(LabeledSentence1(processed_email,[j]))\n",
    "        j+=1\n",
    "        \n",
    "    k+=1"
   ]
  },
  {
   "cell_type": "code",
   "execution_count": 108,
   "metadata": {},
   "outputs": [
    {
     "name": "stdout",
     "output_type": "stream",
     "text": [
      "Number of articles processed:  2692\n",
      "Number of non-empty article vectors:  2692\n"
     ]
    }
   ],
   "source": [
    "print(\"Number of articles processed: \", k)\n",
    "print(\"Number of non-empty article vectors: \", j)"
   ]
  },
  {
   "cell_type": "code",
   "execution_count": 111,
   "metadata": {},
   "outputs": [
    {
     "data": {
      "text/plain": [
       "TaggedDocument(words=['karachi', 'west', 'indi', 'opner', 'chri', 'gayl', 'took', 'friendli', 'jibe', 'at', 'pakistan', 'out', 'of', 'favour', 'open', 'ahm', 'shehzad', 'strongshehzad', 'took', 'to', 'twitter', 'to', 'initi', 'chat', 'session', 'with', 'hi', 'fan', 'which', 'got', 'joli', 'respons', 'from', 'west', 'indi', 'superstar', 'chri', 'gayl', 'dir', 'ltr', 'lang', 'en', 'ahmad', 'shahzad', 'iamahmadshahzad', 'href', 'twitter', 'iamahmadshahzad', 'statu', 'may', 'ain', 'respons', 'to', 'the', 'tweet', 'gayl', 'who', 'had', 'been', 'teammat', 'with', 'the', 'pakistan', 'open', 'at', 'jamaica', 'tallawah', 'dure', 'the', 'inaugur', 'edit', 'of', 'the', 'caribbean', 'premier', 'leagu', 'ask', 'shehzad', 'whether', 'excess', 'selfi', 'were', 'the', 'reason', 'behind', 'hi', 'axe', 'from', 'the', 'pakistan', 'team', 'dir', 'ltr', 'lang', 'en', 'chri', 'gayl', 'henrygayl', 'href', 'twitter', 'henrygayl', 'statu', 'may', 'ashehzad', 'is', 'known', 'for', 'pose', 'for', 'selfi', 'and', 'hi', 'twitter', 'wall', 'make', 'it', 'evid', 'gayl', 'who', 'had', 'share', 'the', 'dress', 'room', 'with', 'him', 'wa', 'quick', 'to', 'use', 'it', 'against', 'him', 'dir', 'ltr', 'lang', 'en', 'chri', 'gayl', 'henrygayl', 'href', 'twitter', 'henrygayl', 'statu', 'may', 'ashehzad', 'wa', 'drop', 'for', 'england', 'tour', 'due', 'to', 'issu', 'with', 'hi', 'attitud', 'and', 'disciplin', 'pakistan', 'newli', 'appoint', 'chief', 'selector', 'inzamam', 'ul', 'haq', 'said', 'he', 'had', 'spoken', 'to', 'all', 'the', 'selector', 'and', 'other', 'stakehold', 'of', 'pakistan', 'cricket', 'and', 'also', 'gone', 'through', 'the', 'report', 'of', 'the', 'former', 'ach', 'and', 'manag', 'befor', 'take', 'the', 'decis', 'to', 'drop', 'ahm', 'shehzad', 'and', 'umar', 'akmal', 'from', 'the', 'side'], tags=[4])"
      ]
     },
     "execution_count": 111,
     "metadata": {},
     "output_type": "execute_result"
    }
   ],
   "source": [
    "all_content[4]"
   ]
  },
  {
   "cell_type": "code",
   "execution_count": 112,
   "metadata": {},
   "outputs": [
    {
     "name": "stderr",
     "output_type": "stream",
     "text": [
      "/Users/aarya/anaconda/envs/symposia/lib/python3.7/site-packages/gensim/models/doc2vec.py:570: UserWarning: The parameter `size` is deprecated, will be removed in 4.0.0, use `vector_size` instead.\n",
      "  warnings.warn(\"The parameter `size` is deprecated, will be removed in 4.0.0, use `vector_size` instead.\")\n"
     ]
    }
   ],
   "source": [
    "d2v_model = Doc2Vec(all_content, size = 2000, window = 10, min_count = 500, workers=7, dm = 1, \n",
    "                alpha=0.025, min_alpha=0.001)"
   ]
  },
  {
   "cell_type": "code",
   "execution_count": 126,
   "metadata": {},
   "outputs": [
    {
     "data": {
      "text/plain": [
       "'sports'"
      ]
     },
     "execution_count": 126,
     "metadata": {},
     "output_type": "execute_result"
    }
   ],
   "source": [
    "articles.loc[1].NewsType"
   ]
  },
  {
   "cell_type": "code",
   "execution_count": 120,
   "metadata": {},
   "outputs": [
    {
     "name": "stdout",
     "output_type": "stream",
     "text": [
      "[(749, 0.9740104675292969), (1860, 0.9680447578430176), (658, 0.9677472710609436), (2667, 0.9629857540130615), (2664, 0.961216926574707), (146, 0.9586263298988342), (2479, 0.9583473205566406), (1842, 0.9582377076148987), (302, 0.9579676985740662), (1954, 0.9565292596817017)]\n"
     ]
    },
    {
     "name": "stderr",
     "output_type": "stream",
     "text": [
      "/Users/aarya/anaconda/envs/symposia/lib/python3.7/site-packages/gensim/matutils.py:737: FutureWarning: Conversion of the second argument of issubdtype from `int` to `np.signedinteger` is deprecated. In future, it will be treated as `np.int64 == np.dtype(int).type`.\n",
      "  if np.issubdtype(vec.dtype, np.int):\n"
     ]
    }
   ],
   "source": [
    "print (d2v_model.docvecs.most_similar(1))"
   ]
  },
  {
   "cell_type": "code",
   "execution_count": 117,
   "metadata": {},
   "outputs": [
    {
     "name": "stderr",
     "output_type": "stream",
     "text": [
      "/Users/aarya/anaconda/envs/symposia/lib/python3.7/site-packages/ipykernel/__main__.py:2: DeprecationWarning: Call to deprecated `doctag_syn0` (Attribute will be removed in 4.0.0, use docvecs.vectors_docs instead).\n",
      "  from ipykernel import kernelapp as app\n"
     ]
    }
   ],
   "source": [
    "kmeans_model = KMeans(n_clusters=2, init='k-means++', max_iter=100)  \n",
    "X = kmeans_model.fit(d2v_model.docvecs.doctag_syn0)\n",
    "labels=kmeans_model.labels_.tolist()"
   ]
  },
  {
   "cell_type": "code",
   "execution_count": 118,
   "metadata": {},
   "outputs": [
    {
     "name": "stderr",
     "output_type": "stream",
     "text": [
      "/Users/aarya/anaconda/envs/symposia/lib/python3.7/site-packages/ipykernel/__main__.py:1: DeprecationWarning: Call to deprecated `doctag_syn0` (Attribute will be removed in 4.0.0, use docvecs.vectors_docs instead).\n",
      "  if __name__ == '__main__':\n",
      "/Users/aarya/anaconda/envs/symposia/lib/python3.7/site-packages/ipykernel/__main__.py:2: DeprecationWarning: Call to deprecated `doctag_syn0` (Attribute will be removed in 4.0.0, use docvecs.vectors_docs instead).\n",
      "  from ipykernel import kernelapp as app\n",
      "/Users/aarya/anaconda/envs/symposia/lib/python3.7/site-packages/ipykernel/__main__.py:3: DeprecationWarning: Call to deprecated `doctag_syn0` (Attribute will be removed in 4.0.0, use docvecs.vectors_docs instead).\n",
      "  app.launch_new_instance()\n"
     ]
    }
   ],
   "source": [
    "l = kmeans_model.fit_predict(d2v_model.docvecs.doctag_syn0)\n",
    "pca = PCA(n_components=2).fit(d2v_model.docvecs.doctag_syn0)\n",
    "datapoint = pca.transform(d2v_model.docvecs.doctag_syn0)"
   ]
  },
  {
   "cell_type": "code",
   "execution_count": 119,
   "metadata": {},
   "outputs": [
    {
     "data": {
      "image/png": "[encoded data removed]",
      "text/plain": [
       "<Figure size 432x288 with 1 Axes>"
      ]
     },
     "metadata": {
      "needs_background": "light"
     },
     "output_type": "display_data"
    }
   ],
   "source": [
    "plt.figure\n",
    "label1 = [\"#FFFF00\", \"#008000\"]\n",
    "color = [label1[i] for i in labels]\n",
    "plt.scatter(datapoint[:, 0], datapoint[:, 1], c=color)\n",
    "\n",
    "centroids = kmeans_model.cluster_centers_\n",
    "centroidpoint = pca.transform(centroids)\n",
    "plt.scatter(centroidpoint[:, 0], centroidpoint[:, 1], marker='^', s=150, c='#000000')\n",
    "plt.show()"
   ]
  },
  {
   "cell_type": "code",
   "execution_count": null,
   "metadata": {},
   "outputs": [],
   "source": []
  }
 ],
 "metadata": {
  "kernelspec": {
   "display_name": "Python [conda env:symposia]",
   "language": "python",
   "name": "conda-env-symposia-py"
  },
  "language_info": {
   "codemirror_mode": {
    "name": "ipython",
    "version": 3
   },
   "file_extension": ".py",
   "mimetype": "text/x-python",
   "name": "python",
   "nbconvert_exporter": "python",
   "pygments_lexer": "ipython3",
   "version": "3.7.0"
  },
  "nbpresent": {
   "slides": {},
   "themes": {
    "default": "3d7cb11d-15ae-4f92-8b56-7869a28972c6",
    "theme": {
     "3d7cb11d-15ae-4f92-8b56-7869a28972c6": {
      "backgrounds": {
       "dc7afa04-bf90-40b1-82a5-726e3cff5267": {
        "background-color": "31af15d2-7e15-44c5-ab5e-e04b16a89eff",
        "id": "dc7afa04-bf90-40b1-82a5-726e3cff5267"
       }
      },
      "id": "3d7cb11d-15ae-4f92-8b56-7869a28972c6",
      "palette": {
       "19cc588f-0593-49c9-9f4b-e4d7cc113b1c": {
        "id": "19cc588f-0593-49c9-9f4b-e4d7cc113b1c",
        "rgb": [
         252,
         252,
         252
        ]
       },
       "31af15d2-7e15-44c5-ab5e-e04b16a89eff": {
        "id": "31af15d2-7e15-44c5-ab5e-e04b16a89eff",
        "rgb": [
         68,
         68,
         68
        ]
       },
       "50f92c45-a630-455b-aec3-788680ec7410": {
        "id": "50f92c45-a630-455b-aec3-788680ec7410",
        "rgb": [
         197,
         226,
         245
        ]
       },
       "c5cc3653-2ee1-402a-aba2-7caae1da4f6c": {
        "id": "c5cc3653-2ee1-402a-aba2-7caae1da4f6c",
        "rgb": [
         43,
         126,
         184
        ]
       },
       "efa7f048-9acb-414c-8b04-a26811511a21": {
        "id": "efa7f048-9acb-414c-8b04-a26811511a21",
        "rgb": [
         25.118061674008803,
         73.60176211453744,
         107.4819383259912
        ]
       }
      },
      "rules": {
       "a": {
        "color": "19cc588f-0593-49c9-9f4b-e4d7cc113b1c"
       },
       "blockquote": {
        "color": "50f92c45-a630-455b-aec3-788680ec7410",
        "font-size": 3
       },
       "code": {
        "font-family": "Anonymous Pro"
       },
       "h1": {
        "color": "19cc588f-0593-49c9-9f4b-e4d7cc113b1c",
        "font-family": "Merriweather",
        "font-size": 8
       },
       "h2": {
        "color": "19cc588f-0593-49c9-9f4b-e4d7cc113b1c",
        "font-family": "Merriweather",
        "font-size": 6
       },
       "h3": {
        "color": "50f92c45-a630-455b-aec3-788680ec7410",
        "font-family": "Lato",
        "font-size": 5.5
       },
       "h4": {
        "color": "c5cc3653-2ee1-402a-aba2-7caae1da4f6c",
        "font-family": "Lato",
        "font-size": 5
       },
       "h5": {
        "font-family": "Lato"
       },
       "h6": {
        "font-family": "Lato"
       },
       "h7": {
        "font-family": "Lato"
       },
       "li": {
        "color": "50f92c45-a630-455b-aec3-788680ec7410",
        "font-size": 3.25
       },
       "pre": {
        "font-family": "Anonymous Pro",
        "font-size": 4
       }
      },
      "text-base": {
       "color": "19cc588f-0593-49c9-9f4b-e4d7cc113b1c",
       "font-family": "Lato",
       "font-size": 4
      }
     }
    }
   }
  }
 },
 "nbformat": 4,
 "nbformat_minor": 2
}
